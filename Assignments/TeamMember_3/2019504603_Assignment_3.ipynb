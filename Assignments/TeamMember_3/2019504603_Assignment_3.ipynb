{
  "nbformat": 4,
  "nbformat_minor": 0,
  "metadata": {
    "colab": {
      "provenance": [],
      "collapsed_sections": []
    },
    "kernelspec": {
      "name": "python3",
      "display_name": "Python 3"
    },
    "language_info": {
      "name": "python"
    }
  },
  "cells": [
    {
      "cell_type": "markdown",
      "source": [
        "### **Load Dataset**"
      ],
      "metadata": {
        "id": "xfGSoGTH2-m0"
      }
    },
    {
      "cell_type": "code",
      "execution_count": null,
      "metadata": {
        "id": "JDeDthicaUJS"
      },
      "outputs": [],
      "source": [
        "import os\n",
        "import zipfile"
      ]
    },
    {
      "cell_type": "code",
      "source": [
        "from google.colab import drive\n",
        "drive.mount('/content/drive')"
      ],
      "metadata": {
        "colab": {
          "base_uri": "https://localhost:8080/"
        },
        "id": "-l_PQxUXaYwt",
        "outputId": "d8e0d5f8-9893-4d5a-ca47-ff7dd132a669"
      },
      "execution_count": null,
      "outputs": [
        {
          "output_type": "stream",
          "name": "stdout",
          "text": [
            "Drive already mounted at /content/drive; to attempt to forcibly remount, call drive.mount(\"/content/drive\", force_remount=True).\n"
          ]
        }
      ]
    },
    {
      "cell_type": "code",
      "source": [
        "!unzip /content/drive/My\\ Drive/Flowers-Dataset.zip "
      ],
      "metadata": {
        "colab": {
          "base_uri": "https://localhost:8080/"
        },
        "id": "yNwoKMEzaq6_",
        "outputId": "a9386dbb-85d0-4c1a-9e54-61ea47c0dd35"
      },
      "execution_count": null,
      "outputs": [
        {
          "output_type": "stream",
          "name": "stdout",
          "text": [
            "Archive:  /content/drive/My Drive/Flowers-Dataset.zip\n",
            "replace flowers/daisy/100080576_f52e8ee070_n.jpg? [y]es, [n]o, [A]ll, [N]one, [r]ename: "
          ]
        }
      ]
    },
    {
      "cell_type": "code",
      "source": [
        "import tensorflow as tf"
      ],
      "metadata": {
        "id": "Zs4s5An9b7p2"
      },
      "execution_count": null,
      "outputs": []
    },
    {
      "cell_type": "markdown",
      "source": [
        "# **Split Data into train,test and validation data**"
      ],
      "metadata": {
        "id": "QdXMr1z-3dox"
      }
    },
    {
      "cell_type": "code",
      "source": [
        "pip install split-folders"
      ],
      "metadata": {
        "colab": {
          "base_uri": "https://localhost:8080/"
        },
        "id": "ejbRbdGvcBmC",
        "outputId": "db52b69a-a743-4dec-b58e-c8f9a1a8bec3"
      },
      "execution_count": null,
      "outputs": [
        {
          "output_type": "stream",
          "name": "stdout",
          "text": [
            "Looking in indexes: https://pypi.org/simple, https://us-python.pkg.dev/colab-wheels/public/simple/\n",
            "Requirement already satisfied: split-folders in /usr/local/lib/python3.7/dist-packages (0.5.1)\n"
          ]
        }
      ]
    },
    {
      "cell_type": "code",
      "source": [
        "import splitfolders"
      ],
      "metadata": {
        "id": "OxxFLhuedIEV"
      },
      "execution_count": null,
      "outputs": []
    },
    {
      "cell_type": "code",
      "source": [
        "splitfolders.ratio(\"/content/flowers\", output=\"/content/outputf\", seed=1337, ratio=(.8, .1, .1), group_prefix=None)"
      ],
      "metadata": {
        "colab": {
          "base_uri": "https://localhost:8080/"
        },
        "id": "olZLAd_3dLB9",
        "outputId": "9e2aa8be-2f72-4c97-e9d6-d08ff248ccee"
      },
      "execution_count": null,
      "outputs": [
        {
          "output_type": "stream",
          "name": "stderr",
          "text": [
            "Copying files: 4317 files [00:07, 556.00 files/s]\n"
          ]
        }
      ]
    },
    {
      "cell_type": "markdown",
      "source": [
        "# **Import necessary libraries**"
      ],
      "metadata": {
        "id": "LI1soXLu34wm"
      }
    },
    {
      "cell_type": "code",
      "source": [
        "import keras"
      ],
      "metadata": {
        "id": "qz6emFwGeBeO"
      },
      "execution_count": null,
      "outputs": []
    },
    {
      "cell_type": "code",
      "source": [
        "from keras import backend as K\n",
        "from keras.models import Sequential\n",
        "from keras.layers import Dense"
      ],
      "metadata": {
        "id": "eDHjFTQSqd0s"
      },
      "execution_count": null,
      "outputs": []
    },
    {
      "cell_type": "code",
      "source": [
        "from keras.layers import Dropout, Flatten,Activation\n",
        "from keras.layers import Conv2D, MaxPooling2D, BatchNormalization"
      ],
      "metadata": {
        "id": "BUzL9hELqnKQ"
      },
      "execution_count": null,
      "outputs": []
    },
    {
      "cell_type": "markdown",
      "source": [
        "# **Data Augmentation**"
      ],
      "metadata": {
        "id": "AJ60GQ7V4BNU"
      }
    },
    {
      "cell_type": "code",
      "source": [
        "from tensorflow.keras.preprocessing.image import ImageDataGenerator\n",
        "training_datagen = ImageDataGenerator(rescale = 1./255,rotation_range=10,horizontal_flip=True,vertical_flip=False)"
      ],
      "metadata": {
        "id": "ep-cG4k_dd8q"
      },
      "execution_count": null,
      "outputs": []
    },
    {
      "cell_type": "code",
      "source": [
        "training_dir = './outputf/train/'"
      ],
      "metadata": {
        "id": "61sY1p7_rnfT"
      },
      "execution_count": null,
      "outputs": []
    },
    {
      "cell_type": "code",
      "source": [
        "train_generator = training_datagen.flow_from_directory(\n",
        "    training_dir,\n",
        "    target_size = (224,224), #rescale images to fixed size\n",
        "    class_mode = 'categorical',\n",
        "    batch_size = 32\n",
        ")"
      ],
      "metadata": {
        "colab": {
          "base_uri": "https://localhost:8080/"
        },
        "id": "3CfW2IGgeOX1",
        "outputId": "f311f6a8-4247-4e67-97d8-9573ebcb4aaf"
      },
      "execution_count": null,
      "outputs": [
        {
          "output_type": "stream",
          "name": "stdout",
          "text": [
            "Found 3452 images belonging to 5 classes.\n"
          ]
        }
      ]
    },
    {
      "cell_type": "code",
      "source": [
        "validation_dir = './outputf/val'\n",
        "validation_datagen = ImageDataGenerator(\n",
        "    rescale=1./255\n",
        ")\n",
        "\n",
        "test_dir = './outputf/test'\n",
        "test_datagen = ImageDataGenerator(\n",
        "    rescale=1./255\n",
        ")"
      ],
      "metadata": {
        "id": "CanupeKKqKtL"
      },
      "execution_count": null,
      "outputs": []
    },
    {
      "cell_type": "code",
      "source": [
        "validation_generator = validation_datagen.flow_from_directory(\n",
        "    validation_dir,\n",
        "    target_size = (224,224),\n",
        "    class_mode = 'categorical',\n",
        "    batch_size = 32\n",
        ")\n",
        "test_generator = test_datagen.flow_from_directory(\n",
        "    test_dir,\n",
        "    target_size = (224,224),\n",
        "    class_mode = 'categorical',\n",
        "    batch_size = 32\n",
        ")"
      ],
      "metadata": {
        "colab": {
          "base_uri": "https://localhost:8080/"
        },
        "id": "G2pqdEHDryTx",
        "outputId": "17804528-5845-4b70-9178-8e4bf03b5721"
      },
      "execution_count": null,
      "outputs": [
        {
          "output_type": "stream",
          "name": "stdout",
          "text": [
            "Found 430 images belonging to 5 classes.\n",
            "Found 435 images belonging to 5 classes.\n"
          ]
        }
      ]
    },
    {
      "cell_type": "markdown",
      "source": [
        "## **Creating model and Add layers**"
      ],
      "metadata": {
        "id": "-1B72ri44J0I"
      }
    },
    {
      "cell_type": "code",
      "source": [
        "model=Sequential()\n",
        "model.add(Conv2D(32,(3,3),input_shape=(224,224,3),activation='relu'))"
      ],
      "metadata": {
        "id": "M50dFkdQr6CP"
      },
      "execution_count": null,
      "outputs": []
    },
    {
      "cell_type": "code",
      "source": [
        "model.add(MaxPooling2D(pool_size=(2,2)))\n",
        "model.add(Flatten())"
      ],
      "metadata": {
        "id": "FB85zv3ssXKd"
      },
      "execution_count": null,
      "outputs": []
    },
    {
      "cell_type": "code",
      "source": [
        "\n",
        "model.add(Dense(512,activation='relu'))"
      ],
      "metadata": {
        "id": "cMKTmtGVspop"
      },
      "execution_count": null,
      "outputs": []
    },
    {
      "cell_type": "code",
      "source": [
        "model.add(Dense(5,activation='softmax'))"
      ],
      "metadata": {
        "id": "nMmW-E4ps9h5"
      },
      "execution_count": null,
      "outputs": []
    },
    {
      "cell_type": "markdown",
      "source": [
        "# **Compile model**"
      ],
      "metadata": {
        "id": "Fdo2-8XT4Zet"
      }
    },
    {
      "cell_type": "code",
      "source": [
        "model.compile(loss='categorical_crossentropy',\n",
        "              optimizer = tf.keras.optimizers.Adam(),\n",
        "              metrics = ['accuracy']\n",
        "            )"
      ],
      "metadata": {
        "id": "WQcMFaeLtDLD"
      },
      "execution_count": null,
      "outputs": []
    },
    {
      "cell_type": "markdown",
      "source": [
        "# **Fit model**"
      ],
      "metadata": {
        "id": "v0-iXna94f7o"
      }
    },
    {
      "cell_type": "code",
      "source": [
        "model.fit_generator(train_generator,steps_per_epoch=40,epochs=25,validation_data=validation_generator,validation_steps=5,verbose=2)"
      ],
      "metadata": {
        "colab": {
          "base_uri": "https://localhost:8080/"
        },
        "id": "Wastxmk1tMS1",
        "outputId": "aa577e56-eb81-4302-948d-346f86a5f65b"
      },
      "execution_count": null,
      "outputs": [
        {
          "output_type": "stream",
          "name": "stderr",
          "text": [
            "/usr/local/lib/python3.7/dist-packages/ipykernel_launcher.py:1: UserWarning: `Model.fit_generator` is deprecated and will be removed in a future version. Please use `Model.fit`, which supports generators.\n",
            "  \"\"\"Entry point for launching an IPython kernel.\n"
          ]
        },
        {
          "output_type": "stream",
          "name": "stdout",
          "text": [
            "Epoch 1/25\n",
            "40/40 - 136s - loss: 1.2963 - accuracy: 0.7336 - val_loss: 1.1752 - val_accuracy: 0.6062 - 136s/epoch - 3s/step\n",
            "Epoch 2/25\n",
            "40/40 - 127s - loss: 0.8714 - accuracy: 0.7492 - val_loss: 1.1073 - val_accuracy: 0.6062 - 127s/epoch - 3s/step\n",
            "Epoch 3/25\n",
            "40/40 - 126s - loss: 0.7067 - accuracy: 0.7641 - val_loss: 1.2387 - val_accuracy: 0.5437 - 126s/epoch - 3s/step\n",
            "Epoch 4/25\n",
            "40/40 - 131s - loss: 0.6518 - accuracy: 0.7790 - val_loss: 1.2118 - val_accuracy: 0.5625 - 131s/epoch - 3s/step\n",
            "Epoch 5/25\n",
            "40/40 - 127s - loss: 0.6262 - accuracy: 0.7861 - val_loss: 1.2633 - val_accuracy: 0.5813 - 127s/epoch - 3s/step\n",
            "Epoch 6/25\n",
            "40/40 - 127s - loss: 0.6526 - accuracy: 0.7719 - val_loss: 1.0977 - val_accuracy: 0.6000 - 127s/epoch - 3s/step\n",
            "Epoch 7/25\n",
            "40/40 - 125s - loss: 0.6127 - accuracy: 0.7962 - val_loss: 1.0288 - val_accuracy: 0.6375 - 125s/epoch - 3s/step\n",
            "Epoch 8/25\n",
            "40/40 - 133s - loss: 0.6413 - accuracy: 0.7672 - val_loss: 1.3182 - val_accuracy: 0.5625 - 133s/epoch - 3s/step\n",
            "Epoch 9/25\n",
            "40/40 - 126s - loss: 0.6120 - accuracy: 0.8016 - val_loss: 1.0392 - val_accuracy: 0.6313 - 126s/epoch - 3s/step\n",
            "Epoch 10/25\n",
            "40/40 - 127s - loss: 0.5917 - accuracy: 0.8047 - val_loss: 1.0500 - val_accuracy: 0.6687 - 127s/epoch - 3s/step\n",
            "Epoch 11/25\n",
            "40/40 - 124s - loss: 0.6257 - accuracy: 0.7908 - val_loss: 1.3223 - val_accuracy: 0.5688 - 124s/epoch - 3s/step\n",
            "Epoch 12/25\n",
            "40/40 - 127s - loss: 0.5474 - accuracy: 0.8156 - val_loss: 1.1396 - val_accuracy: 0.6250 - 127s/epoch - 3s/step\n",
            "Epoch 13/25\n",
            "40/40 - 133s - loss: 0.5319 - accuracy: 0.8211 - val_loss: 1.3161 - val_accuracy: 0.6187 - 133s/epoch - 3s/step\n",
            "Epoch 14/25\n",
            "40/40 - 127s - loss: 0.5280 - accuracy: 0.8242 - val_loss: 0.9953 - val_accuracy: 0.6562 - 127s/epoch - 3s/step\n",
            "Epoch 15/25\n",
            "40/40 - 125s - loss: 0.5104 - accuracy: 0.8320 - val_loss: 1.1368 - val_accuracy: 0.6562 - 125s/epoch - 3s/step\n",
            "Epoch 16/25\n",
            "40/40 - 127s - loss: 0.4340 - accuracy: 0.8597 - val_loss: 1.1997 - val_accuracy: 0.6562 - 127s/epoch - 3s/step\n",
            "Epoch 17/25\n",
            "40/40 - 133s - loss: 0.5037 - accuracy: 0.8398 - val_loss: 1.1775 - val_accuracy: 0.6187 - 133s/epoch - 3s/step\n",
            "Epoch 18/25\n",
            "40/40 - 127s - loss: 0.5702 - accuracy: 0.8156 - val_loss: 1.1153 - val_accuracy: 0.6438 - 127s/epoch - 3s/step\n",
            "Epoch 19/25\n",
            "40/40 - 126s - loss: 0.5506 - accuracy: 0.8297 - val_loss: 1.2318 - val_accuracy: 0.6250 - 126s/epoch - 3s/step\n",
            "Epoch 20/25\n",
            "40/40 - 125s - loss: 0.4601 - accuracy: 0.8574 - val_loss: 1.1782 - val_accuracy: 0.6187 - 125s/epoch - 3s/step\n",
            "Epoch 21/25\n",
            "40/40 - 127s - loss: 0.4180 - accuracy: 0.8641 - val_loss: 1.0779 - val_accuracy: 0.6375 - 127s/epoch - 3s/step\n",
            "Epoch 22/25\n",
            "40/40 - 133s - loss: 0.4686 - accuracy: 0.8578 - val_loss: 1.1033 - val_accuracy: 0.6438 - 133s/epoch - 3s/step\n",
            "Epoch 23/25\n",
            "40/40 - 128s - loss: 0.3981 - accuracy: 0.8758 - val_loss: 1.0853 - val_accuracy: 0.6375 - 128s/epoch - 3s/step\n",
            "Epoch 24/25\n",
            "40/40 - 125s - loss: 0.4613 - accuracy: 0.8487 - val_loss: 1.1792 - val_accuracy: 0.6500 - 125s/epoch - 3s/step\n",
            "Epoch 25/25\n",
            "40/40 - 127s - loss: 0.4379 - accuracy: 0.8508 - val_loss: 1.1989 - val_accuracy: 0.6438 - 127s/epoch - 3s/step\n"
          ]
        },
        {
          "output_type": "execute_result",
          "data": {
            "text/plain": [
              "<keras.callbacks.History at 0x7f4a521f4410>"
            ]
          },
          "metadata": {},
          "execution_count": 37
        }
      ]
    },
    {
      "cell_type": "markdown",
      "source": [
        "# **Save model**"
      ],
      "metadata": {
        "id": "kjt4BgiC4qzN"
      }
    },
    {
      "cell_type": "code",
      "source": [
        "model.save(\"./flower.h5\")"
      ],
      "metadata": {
        "id": "6X1wnkWqvl-9"
      },
      "execution_count": null,
      "outputs": []
    },
    {
      "cell_type": "markdown",
      "source": [
        "# **Test model**"
      ],
      "metadata": {
        "id": "XO3hhaNG4yCP"
      }
    },
    {
      "cell_type": "markdown",
      "source": [],
      "metadata": {
        "id": "IVvMRnLh28gN"
      }
    },
    {
      "cell_type": "code",
      "source": [
        "model.evaluate(test_generator)"
      ],
      "metadata": {
        "colab": {
          "base_uri": "https://localhost:8080/"
        },
        "id": "NV0qQVO-2pyg",
        "outputId": "4a47976d-e662-4a29-96a5-ea92f0677886"
      },
      "execution_count": null,
      "outputs": [
        {
          "output_type": "stream",
          "name": "stdout",
          "text": [
            "14/14 [==============================] - 9s 622ms/step - loss: 1.0926 - accuracy: 0.6552\n"
          ]
        },
        {
          "output_type": "execute_result",
          "data": {
            "text/plain": [
              "[1.0925501585006714, 0.6551724076271057]"
            ]
          },
          "metadata": {},
          "execution_count": 39
        }
      ]
    }
  ]
}