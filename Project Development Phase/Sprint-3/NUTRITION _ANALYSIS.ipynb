{
  "nbformat": 4,
  "nbformat_minor": 0,
  "metadata": {
    "colab": {
      "provenance": []
    },
    "kernelspec": {
      "name": "python3",
      "display_name": "Python 3"
    },
    "language_info": {
      "name": "python"
    }
  },
  "cells": [
    {
      "cell_type": "markdown",
      "source": [
        "Import The ImageDataGenerator Library"
      ],
      "metadata": {
        "id": "sHgYl_jwIZJW"
      }
    },
    {
      "cell_type": "code",
      "execution_count": null,
      "metadata": {
        "id": "nUvKvjtd-qYs",
        "colab": {
          "base_uri": "https://localhost:8080/"
        },
        "outputId": "1b1c66f4-ddc1-49fb-9d44-fdb7a1c75a67"
      },
      "outputs": [
        {
          "output_type": "stream",
          "name": "stdout",
          "text": [
            "Drive already mounted at /content/drive; to attempt to forcibly remount, call drive.mount(\"/content/drive\", force_remount=True).\n"
          ]
        }
      ],
      "source": [
        "import math\n",
        "import os\n",
        "import zipfile\n",
        "from google.colab import drive\n",
        "drive.mount('/content/drive')\n",
        "from keras.preprocessing.image import ImageDataGenerator"
      ]
    },
    {
      "cell_type": "markdown",
      "source": [
        "Configure ImageDataGenerator Class"
      ],
      "metadata": {
        "id": "d7FZvPmPILsV"
      }
    },
    {
      "cell_type": "code",
      "source": [
        "train_datagen=ImageDataGenerator(rescale=1./255,shear_range=0.2,zoom_range=0.2,horizontal_flip=True)\n",
        "train_datagen=ImageDataGenerator(rescale=1./255)"
      ],
      "metadata": {
        "id": "z-S_8cE3_Kci"
      },
      "execution_count": null,
      "outputs": []
    },
    {
      "cell_type": "markdown",
      "source": [
        "Apply Image DataGenerator Functionality To Trainset And Testset"
      ],
      "metadata": {
        "id": "rUL82dnbIdd4"
      }
    },
    {
      "cell_type": "code",
      "source": [
        "x_train=!unzip /content/drive/My\\ Drive/TRAIN_SET.zip\n",
        "x_test=!unzip /content/drive/My\\ Drive/TEST_SET-20221110T194448Z-001.zip"
      ],
      "metadata": {
        "id": "rCFiEsG6_uz2"
      },
      "execution_count": null,
      "outputs": []
    },
    {
      "cell_type": "markdown",
      "source": [
        "MODEL BUILDING"
      ],
      "metadata": {
        "id": "SSoglPv9IGkX"
      }
    },
    {
      "cell_type": "markdown",
      "source": [],
      "metadata": {
        "id": "lZodhpxcKkg2"
      }
    },
    {
      "cell_type": "markdown",
      "source": [
        "i)Importing The Model Building Libraries"
      ],
      "metadata": {
        "id": "TzOFGO56Irm9"
      }
    },
    {
      "cell_type": "code",
      "source": [
        "import numpy as np\n",
        "import tensorflow\n",
        "from tensorflow.keras.models import Sequential\n",
        "from tensorflow.keras import layers\n",
        "from tensorflow.keras.layers import Dense,Flatten\n",
        "from tensorflow.keras.layers import Conv2D,MaxPooling2D,Dropout\n",
        "from keras.preprocessing.image import ImageDataGenerator"
      ],
      "metadata": {
        "id": "PdbaQwMpIx2O"
      },
      "execution_count": null,
      "outputs": []
    },
    {
      "cell_type": "markdown",
      "source": [
        "ii)Initializing The Model"
      ],
      "metadata": {
        "id": "vZiO6Ku9Kr3_"
      }
    },
    {
      "cell_type": "code",
      "source": [
        "model=Sequential()"
      ],
      "metadata": {
        "id": "E9krHd15K6-B"
      },
      "execution_count": null,
      "outputs": []
    },
    {
      "cell_type": "markdown",
      "source": [
        "iii)Adding CNN Layers"
      ],
      "metadata": {
        "id": "AwqiGikiK_4y"
      }
    },
    {
      "cell_type": "code",
      "source": [
        "model.add(Conv2D(32,(3,3), input_shape=(64,64,3), activation='relu'))\n",
        "model.add(MaxPooling2D(pool_size=(2,2)))\n",
        "model.add(Conv2D(32,(3,3), activation='relu'))\n",
        "model.add(MaxPooling2D(pool_size=(2,2)))\n",
        "model.add(Flatten())"
      ],
      "metadata": {
        "id": "LOSe5ZVULDe0"
      },
      "execution_count": null,
      "outputs": []
    },
    {
      "cell_type": "markdown",
      "source": [
        "iv)Adding Dense Layers"
      ],
      "metadata": {
        "id": "1OQ6cLS6MrOg"
      }
    },
    {
      "cell_type": "code",
      "source": [
        "model.add(Dense(units=128, activation='relu'))\n",
        "model.add(Dense(units=5, activation='softmax'))\n",
        "model.summary()"
      ],
      "metadata": {
        "colab": {
          "base_uri": "https://localhost:8080/"
        },
        "id": "8evgHucSMwHT",
        "outputId": "55280e8e-cc97-424c-9523-33788b49690b"
      },
      "execution_count": null,
      "outputs": [
        {
          "output_type": "stream",
          "name": "stdout",
          "text": [
            "Model: \"sequential_4\"\n",
            "_________________________________________________________________\n",
            " Layer (type)                Output Shape              Param #   \n",
            "=================================================================\n",
            " conv2d_8 (Conv2D)           (None, 62, 62, 32)        896       \n",
            "                                                                 \n",
            " max_pooling2d_8 (MaxPooling  (None, 31, 31, 32)       0         \n",
            " 2D)                                                             \n",
            "                                                                 \n",
            " conv2d_9 (Conv2D)           (None, 29, 29, 32)        9248      \n",
            "                                                                 \n",
            " max_pooling2d_9 (MaxPooling  (None, 14, 14, 32)       0         \n",
            " 2D)                                                             \n",
            "                                                                 \n",
            " flatten_4 (Flatten)         (None, 6272)              0         \n",
            "                                                                 \n",
            " dense_8 (Dense)             (None, 128)               802944    \n",
            "                                                                 \n",
            " dense_9 (Dense)             (None, 5)                 645       \n",
            "                                                                 \n",
            "=================================================================\n",
            "Total params: 813,733\n",
            "Trainable params: 813,733\n",
            "Non-trainable params: 0\n",
            "_________________________________________________________________\n"
          ]
        }
      ]
    },
    {
      "cell_type": "markdown",
      "source": [
        "v)Configure The Learning Process"
      ],
      "metadata": {
        "id": "o1eKove0NNqc"
      }
    },
    {
      "cell_type": "code",
      "source": [
        "model.compile(optimizer='adam', loss='sparse_categorical_crossentropy',metrics=['accuracy'])"
      ],
      "metadata": {
        "id": "-Iu4-4uINQab"
      },
      "execution_count": null,
      "outputs": []
    },
    {
      "cell_type": "markdown",
      "source": [
        "vi)Train The Model"
      ],
      "metadata": {
        "id": "lnNaRwzPNszW"
      }
    },
    {
      "cell_type": "code",
      "source": [
        "try:\n",
        "  model.fit_generator(\n",
        "    generator=x_train, steps_per_epoch=len(x_train),\n",
        "    epochs=20,validation_data=x_test, validation_steps=len(x_test )\n",
        ")\n",
        "except ValueError:\n",
        "  print(\"result\")"
      ],
      "metadata": {
        "id": "7lgOT0a1NwA1"
      },
      "execution_count": null,
      "outputs": []
    },
    {
      "cell_type": "markdown",
      "source": [
        "vii)Save The Model"
      ],
      "metadata": {
        "id": "pIeDCPHpOiGx"
      }
    },
    {
      "cell_type": "code",
      "source": [
        "model.save('nutrition.h5')"
      ],
      "metadata": {
        "id": "qAV02qsaOilT"
      },
      "execution_count": null,
      "outputs": []
    },
    {
      "cell_type": "markdown",
      "source": [
        "viii)Test The Model"
      ],
      "metadata": {
        "id": "52019ngJOjGu"
      }
    },
    {
      "cell_type": "code",
      "source": [
        "from tensorflow.keras.models import load_model\n",
        "from keras.preprocessing import image\n",
        "from tensorflow.keras.utils import load_img\n",
        "from tensorflow.keras.utils import img_to_array\n",
        "\n",
        "model=load_model(\"nutrition.h5\")\n",
        "\n",
        "img=load_img(r\"/content/sample1.jpg\",grayscale=False,target_size=(64,64))\n",
        "x=img_to_array(img)\n",
        "x=np.expand_dims(x,axis=0)\n",
        "pred = np.argmax(model.predict(x), axis=-1)\n",
        "pred\n"
      ],
      "metadata": {
        "id": "h13F5fV2Ojrt",
        "colab": {
          "base_uri": "https://localhost:8080/"
        },
        "outputId": "50f6db4d-4530-4222-d3b6-cff8ca34cec8"
      },
      "execution_count": null,
      "outputs": [
        {
          "output_type": "stream",
          "name": "stdout",
          "text": [
            "1/1 [==============================] - 0s 50ms/step\n"
          ]
        },
        {
          "output_type": "execute_result",
          "data": {
            "text/plain": [
              "array([1])"
            ]
          },
          "metadata": {},
          "execution_count": 91
        }
      ]
    },
    {
      "cell_type": "code",
      "source": [
        "\n",
        "index=['APPLES','BANANA','ORANGE','PINEAPPLE','WATERMELON']\n",
        "#ind=index(arrayval[0])\n",
        "result=str(index[pred[0]])\n",
        "\n",
        "result"
      ],
      "metadata": {
        "colab": {
          "base_uri": "https://localhost:8080/",
          "height": 36
        },
        "id": "LDqB7EB7PJbC",
        "outputId": "1ecabcfa-2d39-4dfa-bc42-de51dd998f3d"
      },
      "execution_count": null,
      "outputs": [
        {
          "output_type": "execute_result",
          "data": {
            "text/plain": [
              "'BANANA'"
            ],
            "application/vnd.google.colaboratory.intrinsic+json": {
              "type": "string"
            }
          },
          "metadata": {},
          "execution_count": 92
        }
      ]
    },
    {
      "cell_type": "code",
      "source": [
        "pred[0]"
      ],
      "metadata": {
        "colab": {
          "base_uri": "https://localhost:8080/"
        },
        "id": "8tuCa_uecY29",
        "outputId": "9f37b0ae-39fd-4cc6-cd01-c5233da61cc0"
      },
      "execution_count": null,
      "outputs": [
        {
          "output_type": "execute_result",
          "data": {
            "text/plain": [
              "1"
            ]
          },
          "metadata": {},
          "execution_count": 87
        }
      ]
    },
    {
      "cell_type": "code",
      "source": [
        "import pandas as pd\n",
        "data=pd.read_csv(r'/content/nutrient _intake - Sheet1.csv')\n",
        "data"
      ],
      "metadata": {
        "colab": {
          "base_uri": "https://localhost:8080/",
          "height": 206
        },
        "id": "My1W1L_Fb6zz",
        "outputId": "b49c7cc5-9c25-402d-c80b-7a45ad6dc8b2"
      },
      "execution_count": null,
      "outputs": [
        {
          "output_type": "execute_result",
          "data": {
            "text/plain": [
              "         NAME SERVING  CALORIE  FIBRE    FAT PROTEIN   SUGAR CARBOHYDRATE  \\\n",
              "0       Apple    100g        52  3.3g  0.24g   0.36g  14.34g       19.06g   \n",
              "1      Banana    100g        89  3.1g  0.39g   1.29g  14.43g       26.95g   \n",
              "2      Orange    100g        47  3.1g  0.16g   1.23g   12.25       15.39g   \n",
              "3   Pineapple    100g        48  2.2g  0.19g   0.84g  14.35g       19.58g   \n",
              "4  Watermelon    100g        30  0.6g  0.23g   0.93g   9.42g       11.48g   \n",
              "\n",
              "                                            BENEFITS  \n",
              "0                Increases endurance during workout.  \n",
              "1  important to increase performance and muscle g...  \n",
              "2  lowers the risk of fatigue and dehydration aft...  \n",
              "3  Reduces strains, sprains, joint pain, and infl...  \n",
              "4         Aids in hydration and helps provide energy  "
            ],
            "text/html": [
              "\n",
              "  <div id=\"df-fd9ac066-45c8-450c-99e6-a3c703d8573f\">\n",
              "    <div class=\"colab-df-container\">\n",
              "      <div>\n",
              "<style scoped>\n",
              "    .dataframe tbody tr th:only-of-type {\n",
              "        vertical-align: middle;\n",
              "    }\n",
              "\n",
              "    .dataframe tbody tr th {\n",
              "        vertical-align: top;\n",
              "    }\n",
              "\n",
              "    .dataframe thead th {\n",
              "        text-align: right;\n",
              "    }\n",
              "</style>\n",
              "<table border=\"1\" class=\"dataframe\">\n",
              "  <thead>\n",
              "    <tr style=\"text-align: right;\">\n",
              "      <th></th>\n",
              "      <th>NAME</th>\n",
              "      <th>SERVING</th>\n",
              "      <th>CALORIE</th>\n",
              "      <th>FIBRE</th>\n",
              "      <th>FAT</th>\n",
              "      <th>PROTEIN</th>\n",
              "      <th>SUGAR</th>\n",
              "      <th>CARBOHYDRATE</th>\n",
              "      <th>BENEFITS</th>\n",
              "    </tr>\n",
              "  </thead>\n",
              "  <tbody>\n",
              "    <tr>\n",
              "      <th>0</th>\n",
              "      <td>Apple</td>\n",
              "      <td>100g</td>\n",
              "      <td>52</td>\n",
              "      <td>3.3g</td>\n",
              "      <td>0.24g</td>\n",
              "      <td>0.36g</td>\n",
              "      <td>14.34g</td>\n",
              "      <td>19.06g</td>\n",
              "      <td>Increases endurance during workout.</td>\n",
              "    </tr>\n",
              "    <tr>\n",
              "      <th>1</th>\n",
              "      <td>Banana</td>\n",
              "      <td>100g</td>\n",
              "      <td>89</td>\n",
              "      <td>3.1g</td>\n",
              "      <td>0.39g</td>\n",
              "      <td>1.29g</td>\n",
              "      <td>14.43g</td>\n",
              "      <td>26.95g</td>\n",
              "      <td>important to increase performance and muscle g...</td>\n",
              "    </tr>\n",
              "    <tr>\n",
              "      <th>2</th>\n",
              "      <td>Orange</td>\n",
              "      <td>100g</td>\n",
              "      <td>47</td>\n",
              "      <td>3.1g</td>\n",
              "      <td>0.16g</td>\n",
              "      <td>1.23g</td>\n",
              "      <td>12.25</td>\n",
              "      <td>15.39g</td>\n",
              "      <td>lowers the risk of fatigue and dehydration aft...</td>\n",
              "    </tr>\n",
              "    <tr>\n",
              "      <th>3</th>\n",
              "      <td>Pineapple</td>\n",
              "      <td>100g</td>\n",
              "      <td>48</td>\n",
              "      <td>2.2g</td>\n",
              "      <td>0.19g</td>\n",
              "      <td>0.84g</td>\n",
              "      <td>14.35g</td>\n",
              "      <td>19.58g</td>\n",
              "      <td>Reduces strains, sprains, joint pain, and infl...</td>\n",
              "    </tr>\n",
              "    <tr>\n",
              "      <th>4</th>\n",
              "      <td>Watermelon</td>\n",
              "      <td>100g</td>\n",
              "      <td>30</td>\n",
              "      <td>0.6g</td>\n",
              "      <td>0.23g</td>\n",
              "      <td>0.93g</td>\n",
              "      <td>9.42g</td>\n",
              "      <td>11.48g</td>\n",
              "      <td>Aids in hydration and helps provide energy</td>\n",
              "    </tr>\n",
              "  </tbody>\n",
              "</table>\n",
              "</div>\n",
              "      <button class=\"colab-df-convert\" onclick=\"convertToInteractive('df-fd9ac066-45c8-450c-99e6-a3c703d8573f')\"\n",
              "              title=\"Convert this dataframe to an interactive table.\"\n",
              "              style=\"display:none;\">\n",
              "        \n",
              "  <svg xmlns=\"http://www.w3.org/2000/svg\" height=\"24px\"viewBox=\"0 0 24 24\"\n",
              "       width=\"24px\">\n",
              "    <path d=\"M0 0h24v24H0V0z\" fill=\"none\"/>\n",
              "    <path d=\"M18.56 5.44l.94 2.06.94-2.06 2.06-.94-2.06-.94-.94-2.06-.94 2.06-2.06.94zm-11 1L8.5 8.5l.94-2.06 2.06-.94-2.06-.94L8.5 2.5l-.94 2.06-2.06.94zm10 10l.94 2.06.94-2.06 2.06-.94-2.06-.94-.94-2.06-.94 2.06-2.06.94z\"/><path d=\"M17.41 7.96l-1.37-1.37c-.4-.4-.92-.59-1.43-.59-.52 0-1.04.2-1.43.59L10.3 9.45l-7.72 7.72c-.78.78-.78 2.05 0 2.83L4 21.41c.39.39.9.59 1.41.59.51 0 1.02-.2 1.41-.59l7.78-7.78 2.81-2.81c.8-.78.8-2.07 0-2.86zM5.41 20L4 18.59l7.72-7.72 1.47 1.35L5.41 20z\"/>\n",
              "  </svg>\n",
              "      </button>\n",
              "      \n",
              "  <style>\n",
              "    .colab-df-container {\n",
              "      display:flex;\n",
              "      flex-wrap:wrap;\n",
              "      gap: 12px;\n",
              "    }\n",
              "\n",
              "    .colab-df-convert {\n",
              "      background-color: #E8F0FE;\n",
              "      border: none;\n",
              "      border-radius: 50%;\n",
              "      cursor: pointer;\n",
              "      display: none;\n",
              "      fill: #1967D2;\n",
              "      height: 32px;\n",
              "      padding: 0 0 0 0;\n",
              "      width: 32px;\n",
              "    }\n",
              "\n",
              "    .colab-df-convert:hover {\n",
              "      background-color: #E2EBFA;\n",
              "      box-shadow: 0px 1px 2px rgba(60, 64, 67, 0.3), 0px 1px 3px 1px rgba(60, 64, 67, 0.15);\n",
              "      fill: #174EA6;\n",
              "    }\n",
              "\n",
              "    [theme=dark] .colab-df-convert {\n",
              "      background-color: #3B4455;\n",
              "      fill: #D2E3FC;\n",
              "    }\n",
              "\n",
              "    [theme=dark] .colab-df-convert:hover {\n",
              "      background-color: #434B5C;\n",
              "      box-shadow: 0px 1px 3px 1px rgba(0, 0, 0, 0.15);\n",
              "      filter: drop-shadow(0px 1px 2px rgba(0, 0, 0, 0.3));\n",
              "      fill: #FFFFFF;\n",
              "    }\n",
              "  </style>\n",
              "\n",
              "      <script>\n",
              "        const buttonEl =\n",
              "          document.querySelector('#df-fd9ac066-45c8-450c-99e6-a3c703d8573f button.colab-df-convert');\n",
              "        buttonEl.style.display =\n",
              "          google.colab.kernel.accessAllowed ? 'block' : 'none';\n",
              "\n",
              "        async function convertToInteractive(key) {\n",
              "          const element = document.querySelector('#df-fd9ac066-45c8-450c-99e6-a3c703d8573f');\n",
              "          const dataTable =\n",
              "            await google.colab.kernel.invokeFunction('convertToInteractive',\n",
              "                                                     [key], {});\n",
              "          if (!dataTable) return;\n",
              "\n",
              "          const docLinkHtml = 'Like what you see? Visit the ' +\n",
              "            '<a target=\"_blank\" href=https://colab.research.google.com/notebooks/data_table.ipynb>data table notebook</a>'\n",
              "            + ' to learn more about interactive tables.';\n",
              "          element.innerHTML = '';\n",
              "          dataTable['output_type'] = 'display_data';\n",
              "          await google.colab.output.renderOutput(dataTable, element);\n",
              "          const docLink = document.createElement('div');\n",
              "          docLink.innerHTML = docLinkHtml;\n",
              "          element.appendChild(docLink);\n",
              "        }\n",
              "      </script>\n",
              "    </div>\n",
              "  </div>\n",
              "  "
            ]
          },
          "metadata": {},
          "execution_count": 93
        }
      ]
    },
    {
      "cell_type": "code",
      "source": [
        "print(data.loc[[pred[0]]])"
      ],
      "metadata": {
        "colab": {
          "base_uri": "https://localhost:8080/"
        },
        "id": "bM-ftl1iPCKG",
        "outputId": "8606948a-3b12-4735-91a8-9266e9571295"
      },
      "execution_count": null,
      "outputs": [
        {
          "output_type": "stream",
          "name": "stdout",
          "text": [
            "     NAME SERVING  CALORIE  FIBRE    FAT PROTEIN   SUGAR CARBOHYDRATE  \\\n",
            "1  Banana    100g        89  3.1g  0.39g   1.29g  14.43g       26.95g   \n",
            "\n",
            "                                            BENEFITS  \n",
            "1  important to increase performance and muscle g...  \n"
          ]
        }
      ]
    }
  ]
}